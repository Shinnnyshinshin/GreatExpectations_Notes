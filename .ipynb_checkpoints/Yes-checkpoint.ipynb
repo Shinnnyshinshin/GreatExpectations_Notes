{
 "cells": [
  {
   "cell_type": "code",
   "execution_count": 1,
   "metadata": {},
   "outputs": [],
   "source": [
    "import json\n",
    "import re\n",
    "import sys\n",
    "import time\n",
    "import dateutil.parser as du\n",
    "from pymongo import MongoClient\n",
    "from pyspark.sql import SparkSession, SQLContext, Row\n",
    "from pyspark.sql.functions import explode, udf, collect_list, struct\n",
    "from pyspark.sql.types import StructField, StructType, IntegerType, StringType, ArrayType\n"
   ]
  },
  {
   "cell_type": "code",
   "execution_count": 2,
   "metadata": {},
   "outputs": [],
   "source": [
    "\n",
    "# build\n",
    "spark = SparkSession.builder.appName(\"Preprocessing App\").getOrCreate()\n",
    "sc = spark.sparkContext\n",
    "sqlContext = SQLContext(sc)\n",
    "\n",
    "\"\"\"\n",
    "User Defined function to extract tweet times\n",
    "\"\"\"\n",
    "def get_tweet_time(s):\n",
    "    # parsing with dateutil parser\n",
    "    now = du.parse(s)\n",
    "    # Keep tweet occurances at 1-hour intervals\n",
    "    current_tweet_time = str(now.year) + \"-\" + str(now.month) + \"-\" + str(now.day) + \" \" + str(now.hour) + \":00\"\n",
    "    return current_tweet_time\n",
    "\n",
    "# register method\n",
    "tweet_time = udf(lambda z: get_tweet_time(z))\n",
    "spark.udf.register(\"tweet_time\", tweet_time)\n",
    "\n",
    "\n",
    "\"\"\"\n",
    "Extract just the Hashtags as entities\n",
    "\"\"\"\n",
    "def _get_hashtag(entities):\n",
    "    return(entities.text)\n",
    "\n",
    "# register method\n",
    "get_hash_tag = udf(lambda z: _get_hashtag(z))\n",
    "spark.udf.register(\"get_hash_tag\", get_hash_tag)\n",
    "\n",
    "def transform_Data(extracted_sql_table):\n",
    "    HashTagsTable = extracted_sql_table.select(\"created_at\", explode( \"hashtags\"))\n",
    "    HashTagsTable_WithDates = HashTagsTable.withColumn('Keyword', get_hash_tag('col')).withColumn('Time', tweet_time('created_at') )\n",
    "    # clean up table\n",
    "    columns_to_drop = ['created_at', 'col']\n",
    "    hashtags_table = HashTagsTable_WithDates.drop(*columns_to_drop)\n",
    "    before_aggregation = hashtags_table.groupBy('Keyword', 'Time').count()\n",
    "    after_aggregation = (before_aggregation.groupBy(\"Keyword\").agg(collect_list(struct(\"Time\", \"count\")).alias('occurances')))\n",
    "    return(after_aggregation)\n",
    "\n"
   ]
  },
  {
   "cell_type": "code",
   "execution_count": 3,
   "metadata": {},
   "outputs": [],
   "source": [
    "\n",
    "folder_data = sqlContext.read.json('/Users/willshin/Development/GreatExpectations_Notes/data')\n",
    "folder_data.registerTempTable(\"tweets\")\n"
   ]
  },
  {
   "cell_type": "code",
   "execution_count": 4,
   "metadata": {},
   "outputs": [],
   "source": [
    "extracted_SQL_table = sqlContext.sql(\"SELECT distinct id, created_at, lang, entities.hashtags FROM tweets WHERE lang = 'en' AND size(entities.hashtags) > 0\")\n",
    "after_aggregation = transform_Data(extracted_SQL_table)\n"
   ]
  },
  {
   "cell_type": "code",
   "execution_count": 5,
   "metadata": {},
   "outputs": [
    {
     "name": "stdout",
     "output_type": "stream",
     "text": [
      "+--------------+--------------------+\n",
      "|       Keyword|          occurances|\n",
      "+--------------+--------------------+\n",
      "|       1DDrive|[[2018-10-1 14:00...|\n",
      "|ChainChompette|[[2018-10-1 20:00...|\n",
      "|           art|[[2018-10-2 2:00,...|\n",
      "|        online|[[2018-10-1 18:00...|\n",
      "|      tortured|[[2018-10-1 21:00...|\n",
      "|  ＦＯＬＬＯＷ|[[2018-10-1 15:00...|\n",
      "|   BillyMiller|[[2018-10-1 12:00...|\n",
      "|         bizav|[[2018-10-1 23:00...|\n",
      "|  DAY6inManila|[[2018-10-1 14:00...|\n",
      "|         HOSHI|[[2018-10-1 12:00...|\n",
      "+--------------+--------------------+\n",
      "only showing top 10 rows\n",
      "\n"
     ]
    }
   ],
   "source": [
    "after_aggregation.show(10)"
   ]
  },
  {
   "cell_type": "code",
   "execution_count": null,
   "metadata": {},
   "outputs": [],
   "source": []
  }
 ],
 "metadata": {
  "kernelspec": {
   "display_name": "Python 3",
   "language": "python",
   "name": "python3"
  },
  "language_info": {
   "codemirror_mode": {
    "name": "ipython",
    "version": 3
   },
   "file_extension": ".py",
   "mimetype": "text/x-python",
   "name": "python",
   "nbconvert_exporter": "python",
   "pygments_lexer": "ipython3",
   "version": "3.7.4"
  }
 },
 "nbformat": 4,
 "nbformat_minor": 2
}
